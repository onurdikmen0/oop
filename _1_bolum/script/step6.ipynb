{
 "cells": [
  {
   "cell_type": "code",
   "execution_count": 3,
   "metadata": {},
   "outputs": [],
   "source": [
    "class Product:\n",
    "    def __init__(self, name, price, quantity):\n",
    "        self.__name = name\n",
    "        self.__price = price\n",
    "        self.__quantity = quantity\n",
    "   \n",
    "    @property\n",
    "    def name(self):\n",
    "        return self.__name\n",
    "    @name.setter\n",
    "    def name(self, value):\n",
    "        self.__name = value\n",
    "    \n",
    "    @property\n",
    "    def price(self):\n",
    "        return self.__price\n",
    "    @price.setter\n",
    "    def price(self, value):\n",
    "        self.__price = value\n",
    "\n",
    "    @property\n",
    "    def quantity(self):\n",
    "        return self.__quantity\n",
    "    @quantity.setter\n",
    "    def quantity(self, value):\n",
    "        self.__quantity = value"
   ]
  },
  {
   "cell_type": "markdown",
   "metadata": {},
   "source": [
    "Product adında bir sınıf oluşturduk, yapıcı metod oluşturduk, kapsülleme ilkesi doğrultusunda niteliklerin getter ve setter metodlarını yazdık. Adım6 ya kadar öğrendiklerimiz bunlardır."
   ]
  },
  {
   "cell_type": "code",
   "execution_count": 11,
   "metadata": {},
   "outputs": [],
   "source": [
    "class Product:\n",
    "    def __init__(self, name=\"default\", price=0, quantity=1):\n",
    "        self.__name = name\n",
    "        self.__price = price\n",
    "        self.__quantity = quantity\n",
    "   \n",
    "    @property\n",
    "    def name(self):\n",
    "        return self.__name\n",
    "    @name.setter\n",
    "    def name(self, value):\n",
    "        self.__name = value\n",
    "    \n",
    "    @property\n",
    "    def price(self):\n",
    "        return self.__price\n",
    "    @price.setter\n",
    "    def price(self, value):\n",
    "        self.__price = value\n",
    "\n",
    "    @property\n",
    "    def quantity(self):\n",
    "        return self.__quantity\n",
    "    @quantity.setter\n",
    "    def quantity(self, value):\n",
    "        self.__quantity = value"
   ]
  },
  {
   "cell_type": "code",
   "execution_count": 12,
   "metadata": {},
   "outputs": [
    {
     "name": "stdout",
     "output_type": "stream",
     "text": [
      "default\n",
      "0\n",
      "1\n"
     ]
    }
   ],
   "source": [
    "item4 = Product()\n",
    "print(item4.name)\n",
    "print(item4.price)\n",
    "print(item4.quantity)"
   ]
  },
  {
   "cell_type": "markdown",
   "metadata": {},
   "source": [
    "Pythonda yapıcı metodu __init__ şeklinde tanımlıyoruz bu yüzden aşırı yükleme işlemi yapamıyoruz ancak yukarıdaki örnekte olduğu gibi yapıcı metodun parametrelerinde default değer girdiğimizde override işlemini yapmış oluruz.\n",
    "Bu işlem sayesinde yapımız daha esnek bir hal alır."
   ]
  },
  {
   "cell_type": "code",
   "execution_count": 16,
   "metadata": {},
   "outputs": [],
   "source": [
    "class Product:\n",
    "    def __init__(self, name=\"default\", price=0, quantity=1):\n",
    "        self.__name = name\n",
    "        self.__price = price\n",
    "        self.__quantity = quantity\n",
    "   \n",
    "    @property\n",
    "    def name(self):\n",
    "        return self.__name\n",
    "    @name.setter\n",
    "    def name(self, value):\n",
    "        self.__name = value\n",
    "    \n",
    "    @property\n",
    "    def price(self):\n",
    "        return self.__price\n",
    "    @price.setter\n",
    "    def price(self, value):\n",
    "        self.__price = value\n",
    "\n",
    "    @property\n",
    "    def quantity(self):\n",
    "        return self.__quantity\n",
    "    @quantity.setter\n",
    "    def quantity(self, value):\n",
    "        self.__quantity = value\n",
    "\n",
    "\n",
    "    def get_total_price(self):\n",
    "        return self.__price * self.__quantity"
   ]
  },
  {
   "cell_type": "markdown",
   "metadata": {},
   "source": [
    "Yukarıdaki hücrede nesnemizdeki ürünlerin toplam fiyatını bukup bize döndüren bir davranış/metod yazdık."
   ]
  },
  {
   "cell_type": "code",
   "execution_count": 17,
   "metadata": {},
   "outputs": [
    {
     "name": "stdout",
     "output_type": "stream",
     "text": [
      "300\n"
     ]
    }
   ],
   "source": [
    "item4 = Product(\"Keyboard\",100,3)\n",
    "print(item4.get_total_price())"
   ]
  },
  {
   "cell_type": "code",
   "execution_count": 18,
   "metadata": {},
   "outputs": [],
   "source": [
    "class Product:\n",
    "    def __init__(self, name:str=\"default\", price:float=0, quantity:int=1) ->None:\n",
    "        self.__name = name\n",
    "        self.__price = price\n",
    "        self.__quantity = quantity\n",
    "   \n",
    "    @property\n",
    "    def name(self) ->str:\n",
    "        return self.__name\n",
    "    @name.setter\n",
    "    def name(self, value:str) ->None:\n",
    "        self.__name = value\n",
    "    \n",
    "    @property\n",
    "    def price(self) ->float:\n",
    "        return self.__price\n",
    "    @price.setter\n",
    "    def price(self, value:float) ->None:\n",
    "        self.__price = value\n",
    "\n",
    "    @property\n",
    "    def quantity(self) ->int:\n",
    "        return self.__quantity\n",
    "    @quantity.setter\n",
    "    def quantity(self, value:int) ->None:\n",
    "        self.__quantity = value\n",
    "\n",
    "\n",
    "    def get_total_price(self) ->float:\n",
    "        return self.__price * self.__quantity"
   ]
  },
  {
   "cell_type": "markdown",
   "metadata": {},
   "source": [
    "Python type safe bir dil olduğundan syntax ında type leri belirtmeyiz. Bu durumun bize faydaları olduğu gibi zararlarıda vardır. Yukarıda daha temiz çalışmak adına, niteliklerin ve metodların typlerini gözterildiği gibi belirtebiliriz."
   ]
  },
  {
   "cell_type": "code",
   "execution_count": 20,
   "metadata": {},
   "outputs": [
    {
     "name": "stdout",
     "output_type": "stream",
     "text": [
      "300\n",
      "<class 'str'>\n",
      "100\n",
      "3\n"
     ]
    }
   ],
   "source": [
    "item4 = Product(\"Keyboard\",100,3)\n",
    "print(item4.get_total_price())\n",
    "print(item4.name)\n",
    "print(item4.price)\n",
    "print(item4.quantity)"
   ]
  }
 ],
 "metadata": {
  "kernelspec": {
   "display_name": "Python 3",
   "language": "python",
   "name": "python3"
  },
  "language_info": {
   "codemirror_mode": {
    "name": "ipython",
    "version": 3
   },
   "file_extension": ".py",
   "mimetype": "text/x-python",
   "name": "python",
   "nbconvert_exporter": "python",
   "pygments_lexer": "ipython3",
   "version": "3.11.5"
  }
 },
 "nbformat": 4,
 "nbformat_minor": 2
}
