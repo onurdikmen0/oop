{
 "cells": [
  {
   "cell_type": "code",
   "execution_count": 8,
   "metadata": {},
   "outputs": [],
   "source": [
    "class Product:\n",
    "    def __init__(self):\n",
    "        print(f\"Product sınıfından bir tane örnek türetildi.\")\n",
    "    "
   ]
  },
  {
   "cell_type": "markdown",
   "metadata": {},
   "source": [
    "pythonda yapıcı metod __init__ metodu ile çalışır."
   ]
  },
  {
   "cell_type": "code",
   "execution_count": 9,
   "metadata": {},
   "outputs": [
    {
     "name": "stdout",
     "output_type": "stream",
     "text": [
      "Product sınıfından bir tane örnek türetildi.\n"
     ]
    }
   ],
   "source": [
    "item1 = Product()\n",
    "\n",
    "#dinamik özellik tanımlamı\n",
    "item1.name = \"Laptop\"\n",
    "item1.price = 799.90\n",
    "item1.quantity = 2"
   ]
  },
  {
   "cell_type": "markdown",
   "metadata": {},
   "source": [
    "1. satırda Product sınıfından item1 adında nesne oluşturulmuştur."
   ]
  },
  {
   "cell_type": "code",
   "execution_count": 10,
   "metadata": {},
   "outputs": [
    {
     "name": "stdout",
     "output_type": "stream",
     "text": [
      "Product sınıfından bir tane örnek türetildi.\n"
     ]
    }
   ],
   "source": [
    "item2 = Product()\n",
    "\n",
    "#dinamik özellik tanımlamı\n",
    "item2_name = \"Computer\"\n",
    "item2_price = 1999.90\n",
    "item2_quantity = 3"
   ]
  }
 ],
 "metadata": {
  "kernelspec": {
   "display_name": "Python 3",
   "language": "python",
   "name": "python3"
  },
  "language_info": {
   "codemirror_mode": {
    "name": "ipython",
    "version": 3
   },
   "file_extension": ".py",
   "mimetype": "text/x-python",
   "name": "python",
   "nbconvert_exporter": "python",
   "pygments_lexer": "ipython3",
   "version": "3.11.5"
  }
 },
 "nbformat": 4,
 "nbformat_minor": 2
}
