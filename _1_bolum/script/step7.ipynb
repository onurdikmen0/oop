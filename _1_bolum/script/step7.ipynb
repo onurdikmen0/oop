{
 "cells": [
  {
   "cell_type": "code",
   "execution_count": 1,
   "metadata": {},
   "outputs": [],
   "source": [
    "class Product:\n",
    "    def __init__(self, name:str=\"default\", price:float=0, quantity:int=1) ->None:\n",
    "        self.__name = name\n",
    "        self.__price = price\n",
    "        self.__quantity = quantity\n",
    "   \n",
    "    @property\n",
    "    def name(self) ->str:\n",
    "        return self.__name\n",
    "    @name.setter\n",
    "    def name(self, value:str) ->None:\n",
    "        self.__name = value\n",
    "    \n",
    "    @property\n",
    "    def price(self) ->float:\n",
    "        return self.__price\n",
    "    @price.setter\n",
    "    def price(self, value:float) ->None:\n",
    "        self.__price = value\n",
    "\n",
    "    @property\n",
    "    def quantity(self) ->int:\n",
    "        return self.__quantity\n",
    "    @quantity.setter\n",
    "    def quantity(self, value:int) ->None:\n",
    "        self.__quantity = value\n",
    "\n",
    "\n",
    "    def get_total_price(self) ->float:\n",
    "        return self.__price * self.__quantity"
   ]
  },
  {
   "cell_type": "code",
   "execution_count": 3,
   "metadata": {},
   "outputs": [
    {
     "name": "stdout",
     "output_type": "stream",
     "text": [
      "<__main__.Product object at 0x0000028037C868D0>\n"
     ]
    }
   ],
   "source": [
    "item5 = Product(\"Keyboard\",100,3)\n",
    "print(item5)"
   ]
  },
  {
   "cell_type": "code",
   "execution_count": 4,
   "metadata": {},
   "outputs": [
    {
     "name": "stdout",
     "output_type": "stream",
     "text": [
      "<__main__.Product object at 0x0000028037C91210>\n"
     ]
    }
   ],
   "source": [
    "item6 = Product(\"Mause\",50,2)\n",
    "print(item6)"
   ]
  },
  {
   "cell_type": "code",
   "execution_count": 5,
   "metadata": {},
   "outputs": [
    {
     "name": "stdout",
     "output_type": "stream",
     "text": [
      "<__main__.Product object at 0x0000028037CC2B10>\n"
     ]
    }
   ],
   "source": [
    "item7 = Product(\"Monitor\",150,4)\n",
    "print(item7)"
   ]
  }
 ],
 "metadata": {
  "kernelspec": {
   "display_name": "Python 3",
   "language": "python",
   "name": "python3"
  },
  "language_info": {
   "codemirror_mode": {
    "name": "ipython",
    "version": 3
   },
   "file_extension": ".py",
   "mimetype": "text/x-python",
   "name": "python",
   "nbconvert_exporter": "python",
   "pygments_lexer": "ipython3",
   "version": "3.11.5"
  }
 },
 "nbformat": 4,
 "nbformat_minor": 2
}
