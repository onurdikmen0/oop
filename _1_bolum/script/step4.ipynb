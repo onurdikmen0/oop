{
 "cells": [
  {
   "cell_type": "code",
   "execution_count": 12,
   "metadata": {},
   "outputs": [],
   "source": [
    "class Product:\n",
    "    def __init__(self, name, price, quantity):\n",
    "        print(f\"Product sınıfından bir tane örnek türetildi.\")"
   ]
  },
  {
   "cell_type": "markdown",
   "metadata": {},
   "source": [
    "pythonda self keywordü sınıfın kendiisini temsil eder."
   ]
  },
  {
   "cell_type": "code",
   "execution_count": 13,
   "metadata": {},
   "outputs": [
    {
     "name": "stdout",
     "output_type": "stream",
     "text": [
      "Product sınıfından bir tane örnek türetildi.\n"
     ]
    }
   ],
   "source": [
    "item1 = Product(\"Laptop\",799.90,2)"
   ]
  },
  {
   "cell_type": "markdown",
   "metadata": {},
   "source": [
    "Bu adımda amacımız sınıf içinde kullanacağımız değerleri nesne üretirken parametre olarak almak. \n",
    "- Bunun bize faydaları daha dinamik bir yapı oluşturmamızı sağlar. \n",
    "- Özellik tanımlarken item1.name şeklinde tekrar eden yapılardan tasarruf sağlarız.\n",
    "\n",
    "Yapıcı metod kullanıldığında ve kullanılmağında nesne oluşturuken farklar vardır. Yapıcı metod kullandığımızda özellikleri parametre olarak veririz."
   ]
  },
  {
   "cell_type": "code",
   "execution_count": null,
   "metadata": {},
   "outputs": [],
   "source": [
    "print(item1.name)"
   ]
  },
  {
   "cell_type": "markdown",
   "metadata": {},
   "source": [
    "Yukarıdaki gibi nesnesin elemanlarına erişimimiz sağlanmaz çünkü biz name adında bir parametre aldık ancak onu yapıcı metodda bir attribuet gibi tanımlama işlemi yapmadık."
   ]
  },
  {
   "cell_type": "code",
   "execution_count": 14,
   "metadata": {},
   "outputs": [],
   "source": [
    "class Product:\n",
    "    def __init__(self, name, price, quantity):\n",
    "        print(f\"Product sınıfından bir tane örnek türetildi.\")\n",
    "        self.name = name"
   ]
  },
  {
   "cell_type": "markdown",
   "metadata": {},
   "source": [
    "- 4 . satırda self.name ile belirtilen sınıfın namei ile = name ile de parametre olarak gelen name i ona atama işlemi yapıyoruz. Yukarıda hata veren namei yazdırma işlemi şimdi çalışacaktır. "
   ]
  },
  {
   "cell_type": "code",
   "execution_count": 17,
   "metadata": {},
   "outputs": [
    {
     "name": "stdout",
     "output_type": "stream",
     "text": [
      "Product sınıfından bir tane örnek türetildi.\n",
      "Laptop\n"
     ]
    }
   ],
   "source": [
    "item1 = Product(\"Laptop\",799.90,2)\n",
    "print(item1.name)"
   ]
  },
  {
   "cell_type": "code",
   "execution_count": 19,
   "metadata": {},
   "outputs": [],
   "source": [
    "class Product:\n",
    "    def __init__(self, name, price, quantity):\n",
    "        print(f\"Product sınıfından bir tane örnek türetildi.\")\n",
    "        self.name = name\n",
    "        self.price = price\n",
    "        self.quantity = quantity\n"
   ]
  },
  {
   "cell_type": "markdown",
   "metadata": {},
   "source": [
    "Burada tüm parametreleri attribute olarak tanımlayalım."
   ]
  },
  {
   "cell_type": "code",
   "execution_count": 20,
   "metadata": {},
   "outputs": [
    {
     "name": "stdout",
     "output_type": "stream",
     "text": [
      "Product sınıfından bir tane örnek türetildi.\n",
      "Laptop\n",
      "799.9\n",
      "3\n"
     ]
    }
   ],
   "source": [
    "item1 = Product(\"Laptop\", 799.90, 3)\n",
    "print(item1.name)\n",
    "print(item1.price)\n",
    "print(item1.quantity)"
   ]
  }
 ],
 "metadata": {
  "kernelspec": {
   "display_name": "Python 3",
   "language": "python",
   "name": "python3"
  },
  "language_info": {
   "codemirror_mode": {
    "name": "ipython",
    "version": 3
   },
   "file_extension": ".py",
   "mimetype": "text/x-python",
   "name": "python",
   "nbconvert_exporter": "python",
   "pygments_lexer": "ipython3",
   "version": "3.11.5"
  }
 },
 "nbformat": 4,
 "nbformat_minor": 2
}
