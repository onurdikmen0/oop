{
 "cells": [
  {
   "cell_type": "code",
   "execution_count": 1,
   "metadata": {},
   "outputs": [],
   "source": [
    "class Product:\n",
    "    def __init__(self, name, price, quantity):\n",
    "        print(f\"Product sınıfından bir tane örnek türetildi.\")\n",
    "        self.__name = name\n",
    "        self.price = price\n",
    "        self.quantity = quantity"
   ]
  },
  {
   "cell_type": "markdown",
   "metadata": {},
   "source": [
    "pyhton dilinde erişim düzenleyici keywordleri yok bu işlemleri farklı bir şekilde \" __ \" kullanarak private diye kullanıyoruz."
   ]
  },
  {
   "cell_type": "code",
   "execution_count": null,
   "metadata": {},
   "outputs": [],
   "source": [
    "item1 = Product(\"Laptop\", 799.90, 3)\n",
    "print(item1.__name)"
   ]
  },
  {
   "cell_type": "markdown",
   "metadata": {},
   "source": [
    "self.name = name ifadesini self.__name = name şeklinde güncelledik ve item1.name ile name niteliğini çağırarak namei ekrana yazdırmak istedik ancak bu hata ile karşılaştık : AttributeError: 'Product' nesnesinin '__name' özniteliği yok\n",
    "__name diyerek javada private keywordünü kullanmış olduk. Name niteliğine dışarıdan erişimi engelledik. \n",
    "Bu işlemleri yaprak name niteliğine erişimi tamamen kısıtladık bu istemeyeceğimiz bir durum. Kapsülleme ilkesi doğrultusunda, sınıf içerisindeki nitelikleri metodlar yardımı ile koruma altına alıyoruz ve kullanıma sunuyoruz."
   ]
  },
  {
   "cell_type": "code",
   "execution_count": 8,
   "metadata": {},
   "outputs": [],
   "source": [
    "class Product:\n",
    "    def __init__(self, name, price, quantity):\n",
    "        print(f\"Product sınıfından bir tane örnek türetildi.\")\n",
    "        self.__name = name\n",
    "        self.price = price\n",
    "        self.quantity = quantity\n",
    "\n",
    "    @property\n",
    "    def name(self):\n",
    "        return self.__name"
   ]
  },
  {
   "cell_type": "code",
   "execution_count": 9,
   "metadata": {},
   "outputs": [
    {
     "name": "stdout",
     "output_type": "stream",
     "text": [
      "Product sınıfından bir tane örnek türetildi.\n",
      "Laptop\n"
     ]
    }
   ],
   "source": [
    "item1 = Product(\"Laptop\", 799.90, 3)\n",
    "print(item1.name)"
   ]
  },
  {
   "cell_type": "markdown",
   "metadata": {},
   "source": [
    "Kapsülleme işlemi sonrası name değerine erişebildik. Yaptığımız işlemin adı get metodu/bloğu dur."
   ]
  },
  {
   "cell_type": "code",
   "execution_count": null,
   "metadata": {},
   "outputs": [],
   "source": [
    "item1 = Product(\"Laptop\", 799.90, 3)\n",
    "item1.name = \"HP Laptop\"\n",
    "print(item1.name)"
   ]
  },
  {
   "cell_type": "markdown",
   "metadata": {},
   "source": [
    "Bu adımda ise name özelliğini güncellemek istersek bize bu hatayı verecektir : AttributeError: 'Product' nesnesinin 'name' özelliğinin ayarlayıcısı(setter) yok\n",
    "Bu özelliği kullanmak istiyorsak ve hatanın düzelmesini istiyorsak set metodu/bloğu yazmamız gerekecek."
   ]
  },
  {
   "cell_type": "code",
   "execution_count": 11,
   "metadata": {},
   "outputs": [],
   "source": [
    "class Product:\n",
    "    def __init__(self, name, price, quantity):\n",
    "        print(f\"Product sınıfından bir tane örnek türetildi.\")\n",
    "        self.__name = name\n",
    "        self.price = price\n",
    "        self.quantity = quantity\n",
    "\n",
    "    @property\n",
    "    def name(self):\n",
    "        return self.__name\n",
    "    \n",
    "    @name.setter\n",
    "    def name(self, value):\n",
    "        self.__name = value"
   ]
  },
  {
   "cell_type": "code",
   "execution_count": 12,
   "metadata": {},
   "outputs": [
    {
     "name": "stdout",
     "output_type": "stream",
     "text": [
      "Product sınıfından bir tane örnek türetildi.\n",
      "HP Laptop\n"
     ]
    }
   ],
   "source": [
    "item1 = Product(\"Laptop\", 799.90, 3)\n",
    "item1.name = \"HP Laptop\"\n",
    "print(item1.name)"
   ]
  },
  {
   "cell_type": "markdown",
   "metadata": {},
   "source": [
    "Yukarıdaki 2 hücreyi çalıştırdığımız zaman sorunsuz bir şekilde çalışacaktır."
   ]
  },
  {
   "cell_type": "markdown",
   "metadata": {},
   "source": [
    "- Sadece okuma(read only) işlemi yapılacak ise get bloğunun olması yeterlidir.\n",
    "- Hem okuma hem yazma işlemlerini kullanıcaksak set ve get gereklidir.\n",
    "\n",
    "Bu işlemler sonucunda sınıfımızdaki name alanını kapsüllemiş olduk. Nedenleriri adım adım anlattık."
   ]
  }
 ],
 "metadata": {
  "kernelspec": {
   "display_name": "Python 3",
   "language": "python",
   "name": "python3"
  },
  "language_info": {
   "codemirror_mode": {
    "name": "ipython",
    "version": 3
   },
   "file_extension": ".py",
   "mimetype": "text/x-python",
   "name": "python",
   "nbconvert_exporter": "python",
   "pygments_lexer": "ipython3",
   "version": "3.11.5"
  }
 },
 "nbformat": 4,
 "nbformat_minor": 2
}
